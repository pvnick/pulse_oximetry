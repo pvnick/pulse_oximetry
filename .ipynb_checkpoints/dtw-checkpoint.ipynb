{
 "metadata": {
  "name": ""
 },
 "nbformat": 3,
 "nbformat_minor": 0,
 "worksheets": [
  {
   "cells": [
    {
     "cell_type": "code",
     "collapsed": false,
     "input": [
      "%matplotlib inline\n",
      "%pylab --no-import-all inline\n",
      "\n",
      "import locale\n",
      "import scipy as sc\n",
      "import scipy.stats\n",
      "import numpy as np\n",
      "import pandas as pd\n",
      "import os\n",
      "from scipy.interpolate import interp1d\n",
      "import math\n",
      "import string\n",
      "import re\n",
      "\n",
      "np.random.seed(10)\n",
      "plt.rcParams['mathtext.default'] = 'it' #'regular'\n",
      "locale.setlocale(locale.LC_ALL, 'en_US.UTF-8')\n"
     ],
     "language": "python",
     "metadata": {},
     "outputs": [
      {
       "output_type": "stream",
       "stream": "stdout",
       "text": [
        "Populating the interactive namespace from numpy and matplotlib\n"
       ]
      },
      {
       "metadata": {},
       "output_type": "pyout",
       "prompt_number": 1,
       "text": [
        "'en_US.UTF-8'"
       ]
      }
     ],
     "prompt_number": 1
    },
    {
     "cell_type": "code",
     "collapsed": false,
     "input": [
      "query_path = \"/home/pvnick/Downloads/ucrsuite/Source Code/Query2.txt\"\n",
      "f = open(query_path, 'r')\n",
      "query_contents = f.read()\n",
      "f.close()\n",
      "query = pd.Series([float(val) for val in query_contents.strip().split()])"
     ],
     "language": "python",
     "metadata": {},
     "outputs": [],
     "prompt_number": 29
    },
    {
     "cell_type": "code",
     "collapsed": false,
     "input": [
      "ts_path = \"/home/pvnick/Downloads/ucrsuite/Source Code/Data.txt\"\n",
      "f = open(ts_path, 'r')\n",
      "ts_contents = f.read()\n",
      "f.close()\n",
      "ts = pd.Series([float(val) for val in ts_contents.strip().split()])"
     ],
     "language": "python",
     "metadata": {},
     "outputs": [],
     "prompt_number": 14
    },
    {
     "cell_type": "code",
     "collapsed": false,
     "input": [
      "ts.plot()\n",
      "plt.axvspan(756562, 756562 + query.count(), facecolor='g', alpha=0.5) \n",
      "plt.xlim(756062, 756962)\n",
      "#.xmin(756562)"
     ],
     "language": "python",
     "metadata": {},
     "outputs": [
      {
       "metadata": {},
       "output_type": "pyout",
       "prompt_number": 23,
       "text": [
        "(756062, 756962)"
       ]
      },
      {
       "metadata": {},
       "output_type": "display_data",
       "png": "[encoded data removed]",
       "text": [
        "<matplotlib.figure.Figure at 0x8e66190>"
       ]
      }
     ],
     "prompt_number": 23
    },
    {
     "cell_type": "code",
     "collapsed": false,
     "input": [
      "query.plot()"
     ],
     "language": "python",
     "metadata": {},
     "outputs": [
      {
       "metadata": {},
       "output_type": "pyout",
       "prompt_number": 30,
       "text": [
        "<matplotlib.axes.AxesSubplot at 0x8bdfe10>"
       ]
      },
      {
       "metadata": {},
       "output_type": "display_data",
       "png": "[encoded data removed]",
       "text": [
        "<matplotlib.figure.Figure at 0x8befd10>"
       ]
      }
     ],
     "prompt_number": 30
    },
    {
     "cell_type": "code",
     "collapsed": false,
     "input": [
      "short_series = ts[:1000]"
     ],
     "language": "python",
     "metadata": {},
     "outputs": [],
     "prompt_number": 38
    },
    {
     "cell_type": "code",
     "collapsed": false,
     "input": [
      "def SmartBruteForce(T, m, mx):\n",
      "    n = T.count()\n",
      "    x = np.zeros(n)\n",
      "    xx = np.zeros(n)\n",
      "    for i in np.arange(1, n):\n",
      "        x[i] = x[i-1] + T[i]\n",
      "        xx[i] = xx[i-1] + T[i] ** 2\n",
      "    xy = np.zeros(n - m)\n",
      "    for i in np.arange(n - m):\n",
      "        xy[i] = 0\n",
      "        for j in np.arange(m):\n",
      "            xy[i] = xy[i] + T[i+j] * T[j]\n",
      "    prevXY = xy\n",
      "    for i in np.arange(n - m):\n",
      "        if i > 0:\n",
      "            for k in np.arange(i + m, n - m):\n",
      "                xy[k] = prevXY[k-1] - T[k-1]\n",
      "    print(xy)"
     ],
     "language": "python",
     "metadata": {},
     "outputs": [],
     "prompt_number": 54
    },
    {
     "cell_type": "code",
     "collapsed": false,
     "input": [
      "def ctDistance(T, i, k, j, x, xx, xy):\n",
      "    def t(i):\n",
      "        return T[i-1]\n",
      "    \n",
      "    def for_range(start, stop):\n",
      "        return np.arange(start, stop + 1)\n",
      "    \n",
      "    sumX = x[i + j - 1] - x[i - 1]\n",
      "    sumX2 = xx[i + j - 1] - xx[i - 1]\n",
      "    sumY = x[k + j - 1] - x[k - 1]\n",
      "    sumY2 = xx[k + j - 1] - xx[k - 1]\n",
      "    mu"
     ],
     "language": "python",
     "metadata": {},
     "outputs": []
    },
    {
     "cell_type": "code",
     "collapsed": false,
     "input": [
      "def SmartBruteForce(T, m, mx):\n",
      "    List = []\n",
      "    def t(i):\n",
      "        return T.ix[i]\n",
      "    \n",
      "    def for_range(start, stop):\n",
      "        return np.arange(start, stop + 1)\n",
      "                  \n",
      "    n = T.count()\n",
      "    \n",
      "    #compute cumulative sum of time series values and square of those values\n",
      "    x = short_series.cumsum()\n",
      "    xx = (short_series ** 2).cumsum()\n",
      "    \n",
      "    #cache dot products of T[1:m] and T[i:i+m-1] \n",
      "    xy = {}\n",
      "    T1m = pd.Series(T.ix[1:1 + m].values)\n",
      "    for i in for_range(1, n - m):\n",
      "        Tim = pd.Series(T.ix[i:i + m].values)\n",
      "        xy[i] = T1m.dot(Tim)\n",
      "    xy = pd.Series(data = xy.values(), index = xy.keys())\n",
      "    \n",
      "    prevXY = xy.copy()\n",
      "    #sliding window from i to n-m, with m <= window size <= mx\n",
      "    for i in for_range(1, n - m):\n",
      "        if i > 1:\n",
      "            for k in for_range(i + m, n - m):\n",
      "                xy[k] = prevXY[k-1] - t(k - 1) * t(i - 1) + t(k + m - 1) * t(i + m - 1)\n",
      "            prevXY = xy.copy()\n",
      "            \n",
      "        #for every m <= motif length <= mx\n",
      "        for j in for_range(m, mx):\n",
      "            \n",
      "            #find the nearest neighbor of Ti,j\n",
      "            for k in for_range(i + j, n - j):\n",
      "            \n",
      "                if (j > m):\n",
      "                    xy[k] = t(k + j - 1) * t(i + j - 1)\n",
      "                d = ctDistance(T, i, k, j, x, xx, xy)\n",
      "                List.append([d, i, k])\n",
      "    return List"
     ],
     "language": "python",
     "metadata": {},
     "outputs": [],
     "prompt_number": 99
    },
    {
     "cell_type": "code",
     "collapsed": false,
     "input": [
      "SmartBruteForce(pd.Series(data = ts.values[:1000], index=ts[:1000].index + 1), 3, 5)\n",
      "#np.zeros(5)"
     ],
     "language": "python",
     "metadata": {},
     "outputs": [
      {
       "output_type": "stream",
       "stream": "stdout",
       "text": [
        "1      8.481349\n",
        "2      8.371323\n",
        "3      9.975299\n",
        "4      9.906870\n",
        "5      5.558072\n",
        "6      2.622123\n",
        "7      1.541005\n",
        "8      0.526044\n",
        "9      0.386392\n",
        "10    -0.729260\n",
        "11    -1.010672\n",
        "12    -4.397274\n",
        "13    -8.454354\n",
        "14    -9.337310\n",
        "15   -11.621894\n",
        "...\n",
        "983    184.209706\n",
        "984    188.159971\n",
        "985    190.481259\n",
        "986    192.183299\n",
        "987    193.587188\n",
        "988    197.479285\n",
        "989    198.783863\n",
        "990    194.562719\n",
        "991    191.560591\n",
        "992    192.707465\n",
        "993    193.887227\n",
        "994    194.547854\n",
        "995    195.167667\n",
        "996    198.672877\n",
        "997    199.005678\n",
        "Length: 997, dtype: float64\n"
       ]
      }
     ],
     "prompt_number": 100
    },
    {
     "cell_type": "code",
     "collapsed": false,
     "input": [],
     "language": "python",
     "metadata": {},
     "outputs": [
      {
       "metadata": {},
       "output_type": "pyout",
       "prompt_number": 106,
       "text": [
        "1     0.000000\n",
        "2    -0.432565\n",
        "3    -2.098149\n",
        "4    -1.972817\n",
        "5    -1.685140\n",
        "6    -2.831612\n",
        "7    -1.640696\n",
        "8    -0.451532\n",
        "9    -0.489165\n",
        "10   -0.161873\n",
        "11    0.012766\n",
        "12   -0.173942\n",
        "13    0.551848\n",
        "14   -0.036468\n",
        "15    2.146717\n",
        "...\n",
        "986    -41.748002\n",
        "987    -42.132295\n",
        "988    -42.590218\n",
        "989    -42.881688\n",
        "990    -43.182912\n",
        "991    -44.771506\n",
        "992    -43.677219\n",
        "993    -42.353053\n",
        "994    -42.479532\n",
        "995    -43.216696\n",
        "996    -43.002977\n",
        "997    -43.403506\n",
        "998    -43.338569\n",
        "999    -45.096564\n",
        "1000   -43.409816\n",
        "Length: 1000, dtype: float64"
       ]
      }
     ],
     "prompt_number": 106
    },
    {
     "cell_type": "code",
     "collapsed": false,
     "input": [
      "foobar = {}\n"
     ],
     "language": "python",
     "metadata": {},
     "outputs": [],
     "prompt_number": 56
    },
    {
     "cell_type": "code",
     "collapsed": false,
     "input": [
      "foobar.copy()"
     ],
     "language": "python",
     "metadata": {},
     "outputs": [
      {
       "metadata": {},
       "output_type": "pyout",
       "prompt_number": 57,
       "text": [
        "{}"
       ]
      }
     ],
     "prompt_number": 57
    },
    {
     "cell_type": "code",
     "collapsed": false,
     "input": [],
     "language": "python",
     "metadata": {},
     "outputs": []
    }
   ],
   "metadata": {}
  }
 ]
}